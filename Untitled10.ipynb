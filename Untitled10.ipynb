{
  "nbformat": 4,
  "nbformat_minor": 0,
  "metadata": {
    "colab": {
      "provenance": []
    },
    "kernelspec": {
      "name": "python3",
      "display_name": "Python 3"
    },
    "language_info": {
      "name": "python"
    }
  },
  "cells": [
    {
      "cell_type": "code",
      "execution_count": 1,
      "metadata": {
        "colab": {
          "base_uri": "https://localhost:8080/"
        },
        "id": "N87RJyn6iNet",
        "outputId": "45a5ddbc-57ce-429d-c7e7-dd20e576a709"
      },
      "outputs": [
        {
          "output_type": "stream",
          "name": "stdout",
          "text": [
            "[[ 0 -1 -2 -3 -4]\n",
            " [ 5  6  7  8  9]]\n"
          ]
        }
      ],
      "source": [
        "import numpy as np\n",
        "\n",
        "\n",
        "array_1d = np.arange(10)\n",
        "\n",
        "array_2d = array_1d.reshape(2, 5)\n",
        "\n",
        "array_2d[0] = -array_2d[0]\n",
        "\n",
        "print(array_2d)\n"
      ]
    },
    {
      "cell_type": "code",
      "source": [
        "import numpy as np\n",
        "\n",
        "array = np.random.randint(1, 101, size=(5, 5))\n",
        "\n",
        "min_value = array.min()\n",
        "max_value = array.max()\n",
        "average_value = array.mean()\n",
        "\n",
        "row_sums = array.sum(axis=1)\n",
        "column_sums = array.sum(axis=0)\n",
        "\n",
        "print(\"Array:\\n\", array)\n",
        "print(\"\\nMin Value:\", min_value)\n",
        "print(\"Max Value:\", max_value)\n",
        "print(\"Avg Value:\", average_value)\n",
        "print(\"\\nSum of all the values in each row:\", row_sums)\n",
        "print(\"Sum of all the values in each column:\", column_sums)\n"
      ],
      "metadata": {
        "colab": {
          "base_uri": "https://localhost:8080/"
        },
        "id": "9qPMDI3mi5zI",
        "outputId": "5bd7fb5b-63ef-4052-d30f-adb1c34f634d"
      },
      "execution_count": 3,
      "outputs": [
        {
          "output_type": "stream",
          "name": "stdout",
          "text": [
            "Array:\n",
            " [[20 38 19 72 80]\n",
            " [29 71 83 71 98]\n",
            " [50 90 64 13  2]\n",
            " [88 24 21  2 29]\n",
            " [ 8 21 88 20 78]]\n",
            "\n",
            "Min Value: 2\n",
            "Max Value: 98\n",
            "Avg Value: 47.16\n",
            "\n",
            "Sum of all the values in each row: [229 352 219 164 215]\n",
            "Sum of all the values in each column: [195 244 275 178 287]\n"
          ]
        }
      ]
    },
    {
      "cell_type": "code",
      "source": [
        "import numpy as np\n",
        "\n",
        "matrix_a = np.random.randint(1, 10, size=(3, 3))\n",
        "matrix_b = np.random.randint(1, 10, size=(3, 3))\n",
        "\n",
        "addition = matrix_a + matrix_b\n",
        "subtraction = matrix_a - matrix_b\n",
        "multiplication = matrix_a * matrix_b\n",
        "division = matrix_a / matrix_b\n",
        "dot_product = np.dot(matrix_a, matrix_b)\n",
        "\n",
        "print(\"Matrix A:\\n\", matrix_a)\n",
        "print(\"Matrix B:\\n\", matrix_b)\n",
        "print(\"Addition:\\n\", addition)\n",
        "print(\"Subtraction:\\n\", subtraction)\n",
        "print(\"Multiplication:\\n\", multiplication)\n",
        "print(\"Division:\\n\", division)\n",
        "print(\"Dot Product:\\n\", dot_product)\n"
      ],
      "metadata": {
        "colab": {
          "base_uri": "https://localhost:8080/"
        },
        "id": "yf0BXe_PkFBM",
        "outputId": "cdf0f0fe-8442-4683-947c-01e7e95c7f81"
      },
      "execution_count": 8,
      "outputs": [
        {
          "output_type": "stream",
          "name": "stdout",
          "text": [
            "Matrix A:\n",
            " [[7 7 1]\n",
            " [6 6 4]\n",
            " [9 3 8]]\n",
            "Matrix B:\n",
            " [[8 1 1]\n",
            " [7 9 9]\n",
            " [4 9 2]]\n",
            "Addition:\n",
            " [[15  8  2]\n",
            " [13 15 13]\n",
            " [13 12 10]]\n",
            "Subtraction:\n",
            " [[-1  6  0]\n",
            " [-1 -3 -5]\n",
            " [ 5 -6  6]]\n",
            "Multiplication:\n",
            " [[56  7  1]\n",
            " [42 54 36]\n",
            " [36 27 16]]\n",
            "Division:\n",
            " [[0.875      7.         1.        ]\n",
            " [0.85714286 0.66666667 0.44444444]\n",
            " [2.25       0.33333333 4.        ]]\n",
            "Dot Product:\n",
            " [[109  79  72]\n",
            " [106  96  68]\n",
            " [125 108  52]]\n"
          ]
        }
      ]
    },
    {
      "cell_type": "code",
      "source": [
        "import numpy as np\n",
        "\n",
        "array = np.random.rand(4, 4)\n",
        "second_row = array[1, :]\n",
        "third_column = array[:, 2]\n",
        "sub_array = array[1:4, 0:3]\n",
        "\n",
        "print(\"Array:\\n\", array)\n",
        "print(\"Second Row:\\n\", second_row)\n",
        "print(\"Third Column:\\n\", third_column)\n",
        "print(\"Sub-array:\\n\", sub_array)\n"
      ],
      "metadata": {
        "colab": {
          "base_uri": "https://localhost:8080/"
        },
        "id": "kgnMFnRsk0Xc",
        "outputId": "77e1a775-d875-4344-8e8c-9a8b9177aaec"
      },
      "execution_count": 13,
      "outputs": [
        {
          "output_type": "stream",
          "name": "stdout",
          "text": [
            "Array:\n",
            " [[0.59896794 0.53247323 0.24030416 0.21735373]\n",
            " [0.76452016 0.51342212 0.54094464 0.46418546]\n",
            " [0.16837085 0.84710511 0.44330722 0.15251724]\n",
            " [0.00963032 0.01227851 0.36598062 0.7277722 ]]\n",
            "Second Row:\n",
            " [0.76452016 0.51342212 0.54094464 0.46418546]\n",
            "Third Column:\n",
            " [0.24030416 0.54094464 0.44330722 0.36598062]\n",
            "Sub-array:\n",
            " [[0.76452016 0.51342212 0.54094464]\n",
            " [0.16837085 0.84710511 0.44330722]\n",
            " [0.00963032 0.01227851 0.36598062]]\n"
          ]
        }
      ]
    },
    {
      "cell_type": "code",
      "source": [
        "import numpy as np\n",
        "\n",
        "\n",
        "array = np.arange(1, 21)\n",
        "\n",
        "array[array % 2 == 0] = array[array % 2 == 0] ** 2\n",
        "\n",
        "mask = array > 50\n",
        "\n",
        "filtered_elements = array[mask]\n",
        "\n",
        "print(\"Modified Array:\\n\", array)\n",
        "print(\"Elements that are greater than 50:\\n\", filtered_elements)\n"
      ],
      "metadata": {
        "colab": {
          "base_uri": "https://localhost:8080/"
        },
        "id": "K3BINxvIlhIt",
        "outputId": "281e2d40-2700-4383-92b8-fa8107ccb3a7"
      },
      "execution_count": 15,
      "outputs": [
        {
          "output_type": "stream",
          "name": "stdout",
          "text": [
            "Modified Array:\n",
            " [  1   4   3  16   5  36   7  64   9 100  11 144  13 196  15 256  17 324\n",
            "  19 400]\n",
            "Elements that are greater than 50:\n",
            " [ 64 100 144 196 256 324 400]\n"
          ]
        }
      ]
    },
    {
      "cell_type": "code",
      "source": [
        "import pandas as pd\n",
        "data = {\n",
        "    \"Name\": [\"Sohaib\", \"Bushra\", \"Huzaifa\", \"Rahayma\", \"Bareera\"],\n",
        "    \"Age\": [21, 20, 25, 24, 22],\n",
        "    \"Gender\": [\"Male\", \"Female\", \"Male\", \"Female\", \"Female\"],\n",
        "    \"Score\": [85, 90, 78, 92, 88]\n",
        "}\n",
        "\n",
        "df = pd.DataFrame(data)\n",
        "\n",
        "print(\"First Few Rows:\\n\", df.head())\n",
        "\n",
        "print(\"\\nData Types:\\n\", df.dtypes)\n",
        "\n",
        "print(\"\\nStatistical Summary:\\n\", df.describe())\n"
      ],
      "metadata": {
        "colab": {
          "base_uri": "https://localhost:8080/"
        },
        "id": "Axueb83il4zY",
        "outputId": "952f7343-9522-4c92-e39a-0c6579df3eba"
      },
      "execution_count": 18,
      "outputs": [
        {
          "output_type": "stream",
          "name": "stdout",
          "text": [
            "First Few Rows:\n",
            "       Name  Age  Gender  Score\n",
            "0   Sohaib   21    Male     85\n",
            "1   Bushra   20  Female     90\n",
            "2  Huzaifa   25    Male     78\n",
            "3  Rahayma   24  Female     92\n",
            "4  Bareera   22  Female     88\n",
            "\n",
            "Data Types:\n",
            " Name      object\n",
            "Age        int64\n",
            "Gender    object\n",
            "Score      int64\n",
            "dtype: object\n",
            "\n",
            "Statistical Summary:\n",
            "              Age      Score\n",
            "count   5.000000   5.000000\n",
            "mean   22.400000  86.600000\n",
            "std     2.073644   5.458938\n",
            "min    20.000000  78.000000\n",
            "25%    21.000000  85.000000\n",
            "50%    22.000000  88.000000\n",
            "75%    24.000000  90.000000\n",
            "max    25.000000  92.000000\n"
          ]
        }
      ]
    },
    {
      "cell_type": "code",
      "source": [
        "import pandas as pd\n",
        "import numpy as np\n",
        "\n",
        "data = {\n",
        "    \"ID\": range(1, 11),\n",
        "    \"Age\": [25, 25, 40, 48, 35, 60, 19, 17, 25, 27],\n",
        "    \"Income\": [55000, 60000, 72000, 48000, 53000, 50000, 62000, 75000, 54000, 58000],\n",
        "    \"Score\": [80, 85, np.nan, 90, 75, np.nan, 88, 95, 77, 82]\n",
        "}\n",
        "\n",
        "df = pd.DataFrame(data)\n",
        "\n",
        "# Sort data based on 'Income' in descending order\n",
        "df_sorted = df.sort_values(by=\"Income\", ascending=False)\n",
        "\n",
        "# Replace missing values in 'Score' with the average score of the column\n",
        "df_sorted['Score'].fillna(df_sorted['Score'].mean(), inplace=True)\n",
        "\n",
        "print(\"Sorted DataFrame:\\n\", df_sorted)\n"
      ],
      "metadata": {
        "colab": {
          "base_uri": "https://localhost:8080/"
        },
        "id": "4XSnWuK1mW4H",
        "outputId": "131b7607-de85-4d67-9957-23f1df4e6c1e"
      },
      "execution_count": 20,
      "outputs": [
        {
          "output_type": "stream",
          "name": "stdout",
          "text": [
            "Sorted DataFrame:\n",
            "    ID  Age  Income  Score\n",
            "7   8   17   75000   95.0\n",
            "2   3   40   72000   84.0\n",
            "6   7   19   62000   88.0\n",
            "1   2   25   60000   85.0\n",
            "9  10   27   58000   82.0\n",
            "0   1   25   55000   80.0\n",
            "8   9   25   54000   77.0\n",
            "4   5   35   53000   75.0\n",
            "5   6   60   50000   84.0\n",
            "3   4   48   48000   90.0\n"
          ]
        },
        {
          "output_type": "stream",
          "name": "stderr",
          "text": [
            "<ipython-input-20-0feb7d3c10dc>:17: FutureWarning: A value is trying to be set on a copy of a DataFrame or Series through chained assignment using an inplace method.\n",
            "The behavior will change in pandas 3.0. This inplace method will never work because the intermediate object on which we are setting values always behaves as a copy.\n",
            "\n",
            "For example, when doing 'df[col].method(value, inplace=True)', try using 'df.method({col: value}, inplace=True)' or df[col] = df[col].method(value) instead, to perform the operation inplace on the original object.\n",
            "\n",
            "\n",
            "  df_sorted['Score'].fillna(df_sorted['Score'].mean(), inplace=True)\n"
          ]
        }
      ]
    },
    {
      "cell_type": "code",
      "source": [
        "import pandas as pd\n",
        "import numpy as np\n",
        "\n",
        "data = {\n",
        "    \"ID\": range(1, 11),\n",
        "    \"Age\": [25, 25, 40, 48, 35, 60, 19, 17, 25, 27],\n",
        "    \"Income\": [55000, 60000, 72000, 48000, 53000, 50000, 62000, 75000, 54000, 58000],\n",
        "    \"Score\": [80, 85, np.nan, 90, 75, np.nan, 88, 95, 77, 82]\n",
        "}\n",
        "\n",
        "df = pd.DataFrame(data)\n",
        "\n",
        "df_sorted = df.sort_values(by=\"Income\", ascending=False)\n",
        "\n",
        "df_sorted['Score'].fillna(df_sorted['Score'].mean(), inplace=True)\n",
        "\n",
        "print(\"Sorted DataFrame:\\n\", df_sorted)\n",
        "\n",
        "filtered_df = df_sorted[(df_sorted['Income'] > 50000) & (df_sorted['Age'] < 30)]\n",
        "\n",
        "result = filtered_df[['ID', 'Score']]\n",
        "\n",
        "print(\"Filtered DataFrame:\\n\", result)\n"
      ],
      "metadata": {
        "colab": {
          "base_uri": "https://localhost:8080/"
        },
        "id": "4YSuSVNmm87A",
        "outputId": "2baec378-4017-4b98-865c-646126e8852e"
      },
      "execution_count": 21,
      "outputs": [
        {
          "output_type": "stream",
          "name": "stdout",
          "text": [
            "Sorted DataFrame:\n",
            "    ID  Age  Income  Score\n",
            "7   8   17   75000   95.0\n",
            "2   3   40   72000   84.0\n",
            "6   7   19   62000   88.0\n",
            "1   2   25   60000   85.0\n",
            "9  10   27   58000   82.0\n",
            "0   1   25   55000   80.0\n",
            "8   9   25   54000   77.0\n",
            "4   5   35   53000   75.0\n",
            "5   6   60   50000   84.0\n",
            "3   4   48   48000   90.0\n",
            "Filtered DataFrame:\n",
            "    ID  Score\n",
            "7   8   95.0\n",
            "6   7   88.0\n",
            "1   2   85.0\n",
            "9  10   82.0\n",
            "0   1   80.0\n",
            "8   9   77.0\n"
          ]
        },
        {
          "output_type": "stream",
          "name": "stderr",
          "text": [
            "<ipython-input-21-59390d78f8bc>:17: FutureWarning: A value is trying to be set on a copy of a DataFrame or Series through chained assignment using an inplace method.\n",
            "The behavior will change in pandas 3.0. This inplace method will never work because the intermediate object on which we are setting values always behaves as a copy.\n",
            "\n",
            "For example, when doing 'df[col].method(value, inplace=True)', try using 'df.method({col: value}, inplace=True)' or df[col] = df[col].method(value) instead, to perform the operation inplace on the original object.\n",
            "\n",
            "\n",
            "  df_sorted['Score'].fillna(df_sorted['Score'].mean(), inplace=True)\n"
          ]
        }
      ]
    },
    {
      "cell_type": "code",
      "source": [
        "import pandas as pd\n",
        "\n",
        "data = {\n",
        "    \"Department\": [\"HR\", \"IT\", \"IT\", \"Finance\", \"HR\", \"Finance\", \"IT\", \"HR\", \"Finance\", \"IT\"],\n",
        "    \"Employee\": [\"Sohaib\", \"Ali\", \"Babar\", \"Daniyal\", \"Esha\", \"Faraz\", \"Ghouri\", \"Hamnah\", \"Ibtisam\", \"Jimmy\"],\n",
        "    \"Salary\": [50000, 80000, 75000, 90000, 55000, 95000, 70000, 52000, 98000, 71000],\n",
        "    \"Experience\": [3, 5, 4, 7, 2, 6, 4, 1, 8, 3]\n",
        "}\n",
        "\n",
        "df = pd.DataFrame(data)\n",
        "\n",
        "salary_stats = df.groupby('Department')['Salary'].agg(['mean', 'max'])\n",
        "\n",
        "print(\"Mean and Maximum Salary by Department:\\n\", salary_stats)\n"
      ],
      "metadata": {
        "colab": {
          "base_uri": "https://localhost:8080/"
        },
        "id": "jiQbpXKNnV_A",
        "outputId": "6644d974-6170-4bb3-dbae-cbb98cc71b69"
      },
      "execution_count": 23,
      "outputs": [
        {
          "output_type": "stream",
          "name": "stdout",
          "text": [
            "Mean and Maximum Salary by Department:\n",
            "                     mean    max\n",
            "Department                     \n",
            "Finance     94333.333333  98000\n",
            "HR          52333.333333  55000\n",
            "IT          74000.000000  80000\n"
          ]
        }
      ]
    },
    {
      "cell_type": "code",
      "source": [
        "import pandas as pd\n",
        "data1 = {\n",
        "    \"Employee\": [\"Bushra\", \"Ali\", \"Babar\", \"Daniyal\", \"Esha\"],\n",
        "    \"Department\": [\"HR\", \"IT\", \"IT\", \"Finance\", \"HR\"],\n",
        "    \"Salary\": [50000, 80000, 75000, 90000, 55000]\n",
        "}\n",
        "\n",
        "df1 = pd.DataFrame(data1)\n",
        "\n",
        "data2 = {\n",
        "    \"Employee\": [\"muneeb\", \"Al\", \"Babar\", \"Danny\", \"Eshaam\"],\n",
        "    \"Project\": [\"Project A\", \"Project B\", \"Project A\", \"Project C\", \"Project B\"]\n",
        "}\n",
        "\n",
        "df2 = pd.DataFrame(data2)\n",
        "\n",
        "\n",
        "merged_df = pd.merge(df1, df2, on='Employee')\n",
        "\n",
        "\n",
        "total_salary_per_project = merged_df.groupby('Project')['Salary'].sum()\n",
        "\n",
        "print(\"Total Salary for Each Project:\\n\", total_salary_per_project)\n"
      ],
      "metadata": {
        "colab": {
          "base_uri": "https://localhost:8080/"
        },
        "id": "v-s1ev91vUEg",
        "outputId": "9e8ba2c1-32fb-49f0-d077-012247261187"
      },
      "execution_count": 24,
      "outputs": [
        {
          "output_type": "stream",
          "name": "stdout",
          "text": [
            "Total Salary for Each Project:\n",
            " Project\n",
            "Project A    75000\n",
            "Name: Salary, dtype: int64\n"
          ]
        }
      ]
    }
  ]
}